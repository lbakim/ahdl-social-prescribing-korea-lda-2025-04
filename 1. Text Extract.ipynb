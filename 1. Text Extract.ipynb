{
 "cells": [
  {
   "cell_type": "code",
   "execution_count": 1,
   "id": "165adc74-0106-4948-92a4-8f8b6dd8866b",
   "metadata": {},
   "outputs": [],
   "source": [
    "import os\n",
    "import fitz  # PyMuPDF"
   ]
  },
  {
   "cell_type": "code",
   "execution_count": 2,
   "id": "d7932527-0a5a-4afa-8792-a8e126b20a24",
   "metadata": {},
   "outputs": [],
   "source": [
    "def extract_text_from_pdf(pdf_path):\n",
    "    doc = fitz.open(pdf_path)\n",
    "    text = \"\"\n",
    "    for page in doc:\n",
    "        text += page.get_text()\n",
    "    return text\n",
    "\n",
    "def save_text_to_file(text, output_path):\n",
    "    with open(output_path, 'w', encoding='utf-8') as f:\n",
    "        f.write(text)\n",
    "\n",
    "def extract_texts_from_folder(folder_path, save_txt=True):\n",
    "    pdf_texts = {}\n",
    "    for filename in os.listdir(folder_path):\n",
    "        if filename.endswith(\".pdf\"):\n",
    "            file_path = os.path.join(folder_path, filename)\n",
    "            try:\n",
    "                text = extract_text_from_pdf(file_path)\n",
    "                pdf_texts[filename] = text\n",
    "\n",
    "                if save_txt:\n",
    "                    txt_filename = os.path.splitext(filename)[0] + \".txt\"\n",
    "                    txt_file_path = os.path.join(folder_path, txt_filename)\n",
    "                    save_text_to_file(text, txt_file_path)\n",
    "\n",
    "            except Exception as e:\n",
    "                print(f\"Error reading {filename}: {e}\")\n",
    "    return pdf_texts\n",
    "kor_texts = extract_texts_from_folder(\"./kor\")\n",
    "eng_texts = extract_texts_from_folder(\"./eng\")\n",
    "#kor_texts = extract_texts_from_folder(\"./temp\")"
   ]
  },
  {
   "cell_type": "code",
   "execution_count": null,
   "id": "17364324-7ecc-4ef5-a359-35a079a9981a",
   "metadata": {},
   "outputs": [],
   "source": []
  }
 ],
 "metadata": {
  "kernelspec": {
   "display_name": "Python 3 (ipykernel)",
   "language": "python",
   "name": "python3"
  },
  "language_info": {
   "codemirror_mode": {
    "name": "ipython",
    "version": 3
   },
   "file_extension": ".py",
   "mimetype": "text/x-python",
   "name": "python",
   "nbconvert_exporter": "python",
   "pygments_lexer": "ipython3",
   "version": "3.13.2"
  }
 },
 "nbformat": 4,
 "nbformat_minor": 5
}
